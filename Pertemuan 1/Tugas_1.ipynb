{
  "nbformat": 4,
  "nbformat_minor": 0,
  "metadata": {
    "colab": {
      "provenance": []
    },
    "kernelspec": {
      "name": "python3",
      "display_name": "Python 3"
    },
    "language_info": {
      "name": "python"
    }
  },
  "cells": [
    {
      "cell_type": "markdown",
      "source": [
        "## Tugas 1"
      ],
      "metadata": {
        "id": "R_YrdvsQx9LT"
      }
    },
    {
      "cell_type": "markdown",
      "source": [
        "Diberikan list usia sebagai berikut:\n",
        "\n",
        "```python\n",
        "ages = [15, 22, 35, 44, 18, 67, 29]\n",
        "```"
      ],
      "metadata": {
        "id": "LEzlJqcGyBhi"
      }
    },
    {
      "cell_type": "markdown",
      "source": [
        "#### Tugas 1.a"
      ],
      "metadata": {
        "id": "p1dy0XaX4f72"
      }
    },
    {
      "cell_type": "markdown",
      "source": [
        "Gunakan `map()` dan `lambda` untuk mengelompokkan usia ke dalam kategori berikut:\n",
        "- `< 18` → `\"child\"`\n",
        "- `18–35` → `\"adult\"`\n",
        "- `> 35` → `\"senior\"`\n",
        "\n",
        "Simpan hasilnya dalam list baru bernama `age_category`, lalu cetak `age_category`.\n",
        "\n",
        "---\n",
        "\n",
        "💬 Expected Output Tugas 1.a:\n",
        "\n",
        "```python\n",
        "['child', 'adult', 'adult', 'senior', 'adult', 'senior', 'adult']\n",
        "```"
      ],
      "metadata": {
        "id": "1VyBAmtEyDQR"
      }
    },
    {
      "cell_type": "code",
      "source": [
        "# Write your code here\n",
        "ages = [15, 22, 35, 44, 18, 67, 29]\n",
        "\n",
        "age_category = []\n",
        "for age in ages:\n",
        "    if age < 18:\n",
        "        age_category.append(\"child\")\n",
        "    elif age <= 35:\n",
        "        age_category.append(\"adult\")\n",
        "    else:\n",
        "        age_category.append(\"senior\")\n",
        "\n",
        "print(age_category)"
      ],
      "metadata": {
        "id": "jGy4JkrNyB1k",
        "colab": {
          "base_uri": "https://localhost:8080/"
        },
        "outputId": "ebb0ea9f-d95b-460f-9832-5445e9b3827d"
      },
      "execution_count": 1,
      "outputs": [
        {
          "output_type": "stream",
          "name": "stdout",
          "text": [
            "['child', 'adult', 'adult', 'senior', 'adult', 'senior', 'adult']\n"
          ]
        }
      ]
    },
    {
      "cell_type": "markdown",
      "source": [
        "#### Tugas 1.b"
      ],
      "metadata": {
        "id": "rXmskOaw4s1e"
      }
    },
    {
      "cell_type": "markdown",
      "source": [
        "Cetak setiap usia dan kategorinya dalam format:\n",
        "```\n",
        "15 → child\n",
        "22 → adult\n",
        "...\n",
        "```\n",
        "\n",
        "---\n",
        "\n",
        "💬 Expected Output Tugas 1.b:\n",
        "\n",
        "```\n",
        "15 → child  \n",
        "22 → adult  \n",
        "35 → adult  \n",
        "44 → senior  \n",
        "18 → adult  \n",
        "67 → senior  \n",
        "29 → adult\n",
        "```\n",
        "\n",
        "---\n",
        "\n",
        "**Hint:** Gunakan `zip()` dan for loop"
      ],
      "metadata": {
        "id": "u7CsWm8LyObi"
      }
    },
    {
      "cell_type": "code",
      "source": [
        "# Write your code here\n",
        "for age, category in zip(ages, age_category):\n",
        "    print(f\"{age} → {category}\")"
      ],
      "metadata": {
        "id": "jdRg4A4kycOq",
        "colab": {
          "base_uri": "https://localhost:8080/"
        },
        "outputId": "a508ea2d-84e0-4233-a35c-4a6b6c36cabe"
      },
      "execution_count": 2,
      "outputs": [
        {
          "output_type": "stream",
          "name": "stdout",
          "text": [
            "15 → child\n",
            "22 → adult\n",
            "35 → adult\n",
            "44 → senior\n",
            "18 → adult\n",
            "67 → senior\n",
            "29 → adult\n"
          ]
        }
      ]
    },
    {
      "cell_type": "markdown",
      "source": [
        "## Tugas 2"
      ],
      "metadata": {
        "id": "qcWbNlb55on2"
      }
    },
    {
      "cell_type": "markdown",
      "source": [
        "Diberikan dua kumpulan review sebagai berikut:\n",
        "\n",
        "```python\n",
        "positive_review = [\n",
        "    \"Top seller barang sesuai deskripsi dan berfungsi dengan baik, jangan ragu berbelanja di sini.\",\n",
        "    \"Paket aman pengiriman cepat packing nya juga sangat aman barang aman original sony japan seller fast response dan ramah\",\n",
        "    \"Barang sesuai, packing rapi dan berfungsi dengan baik.\"\n",
        "]\n",
        "\n",
        "negative_review = [\n",
        "    \"Kabelnya tidak original, segel terbuka\",\n",
        "    \"barang yang sampai bukan PS5. tapi permen. uang saya pun tidak dikembalikan.\",\n",
        "    \"Jangan mau beli ps5 di sini toko tidak jelas\"\n",
        "]\n",
        "```"
      ],
      "metadata": {
        "id": "Sjde59nz6csq"
      }
    },
    {
      "cell_type": "markdown",
      "source": [
        "#### Tugas 2.a"
      ],
      "metadata": {
        "id": "eO6c4Fs46gT1"
      }
    },
    {
      "cell_type": "markdown",
      "source": [
        "Lakukan tokenisasi sederhana terhadap setiap review pada `positive_review` dan `negative_review`.  \n",
        "- Gunakan `lower()` untuk mengubah huruf menjadi kecil  \n",
        "- Gunakan `split()` untuk memecah kalimat menjadi list kata  \n",
        "- Lakukan dengan **list comprehension**\n",
        "\n",
        "Assign kembali `positive_review` dan `negative_review` dengan hasilnya, lalu `print()` keduanya.\n",
        "\n",
        "---\n",
        "\n",
        "💬 Expected Output Tugas 2.a:\n",
        "\n",
        "```python\n",
        "[['top', 'seller', 'barang', 'sesuai', 'deskripsi', 'dan', 'berfungsi', 'dengan', 'baik,', 'jangan', 'ragu', 'berbelanja', 'di', 'sini.'],\n",
        " ['paket', 'aman', 'pengiriman', 'cepat', 'packing', 'nya', 'juga', 'sangat', 'aman', 'barang', 'aman', 'original', 'sony', 'japan', 'seller', 'fast', 'response', 'dan', 'ramah'],\n",
        " ['barang', 'sesuai,', 'packing', 'rapi', 'dan', 'berfungsi', 'dengan', 'baik.']]\n",
        "\n",
        "[['kabelnya', 'tidak', 'original,', 'segel', 'terbuka'],\n",
        " ['barang', 'yang', 'sampai', 'bukan', 'ps5.', 'tapi', 'permen.', 'uang', 'saya', 'pun', 'tidak', 'dikembalikan.'],\n",
        " ['jangan', 'mau', 'beli', 'ps5', 'di', 'sini', 'toko', 'tidak', 'jelas']]\n",
        "```"
      ],
      "metadata": {
        "id": "2O-Lv_936lvx"
      }
    },
    {
      "cell_type": "code",
      "source": [
        "# Write your code here\n",
        "positive_review = [\n",
        "    \"Top seller barang sesuai deskripsi dan berfungsi dengan baik, jangan ragu berbelanja di sini.\",\n",
        "    \"Paket aman pengiriman cepat packing nya juga sangat aman barang aman original sony japan seller fast response dan ramah\",\n",
        "    \"Barang sesuai, packing rapi dan berfungsi dengan baik.\"\n",
        "]\n",
        "\n",
        "negative_review = [\n",
        "    \"Kabelnya tidak original, segel terbuka\",\n",
        "    \"barang yang sampai bukan PS5. tapi permen. uang saya pun tidak dikembalikan.\",\n",
        "    \"Jangan mau beli ps5 di sini toko tidak jelas\"\n",
        "]\n",
        "\n",
        "positive_review = [review.lower().split() for review in positive_review]\n",
        "negative_review = [review.lower().split() for review in negative_review]\n",
        "\n",
        "print(positive_review)\n",
        "print(negative_review)"
      ],
      "metadata": {
        "id": "IAzLXEu75p9S",
        "colab": {
          "base_uri": "https://localhost:8080/"
        },
        "outputId": "eb948b9f-0bab-4891-fc32-d8e59a96c929"
      },
      "execution_count": 3,
      "outputs": [
        {
          "output_type": "stream",
          "name": "stdout",
          "text": [
            "[['top', 'seller', 'barang', 'sesuai', 'deskripsi', 'dan', 'berfungsi', 'dengan', 'baik,', 'jangan', 'ragu', 'berbelanja', 'di', 'sini.'], ['paket', 'aman', 'pengiriman', 'cepat', 'packing', 'nya', 'juga', 'sangat', 'aman', 'barang', 'aman', 'original', 'sony', 'japan', 'seller', 'fast', 'response', 'dan', 'ramah'], ['barang', 'sesuai,', 'packing', 'rapi', 'dan', 'berfungsi', 'dengan', 'baik.']]\n",
            "[['kabelnya', 'tidak', 'original,', 'segel', 'terbuka'], ['barang', 'yang', 'sampai', 'bukan', 'ps5.', 'tapi', 'permen.', 'uang', 'saya', 'pun', 'tidak', 'dikembalikan.'], ['jangan', 'mau', 'beli', 'ps5', 'di', 'sini', 'toko', 'tidak', 'jelas']]\n"
          ]
        }
      ]
    },
    {
      "cell_type": "markdown",
      "source": [
        "#### Tugas 2.b"
      ],
      "metadata": {
        "id": "Jzty9Ti67rje"
      }
    },
    {
      "cell_type": "markdown",
      "source": [
        "Import `Counter` dari modul `collections`.\n",
        "\n",
        "**Syntax:**\n",
        "```python\n",
        "from collections import counter\n",
        "```\n",
        "\n",
        "Gabungkan semua kata dari masing-masing review (gunakan list comprehension), lalu hitung frekuensi kata dari `positive_review` dan `negative_review` menggunakan `Counter`.\n",
        "\n",
        "Cetak hasil count untuk masing-masing review.\n",
        "\n",
        "---\n",
        "\n",
        "💬 Expected Output Tugas 2.b:\n",
        "\n",
        "```python\n",
        "Counter({'barang': 3, 'aman': 3, 'dan': 3, 'berfungsi': 2, 'dengan': 2, 'seller': 2, ...})\n",
        "\n",
        "Counter({'tidak': 3, 'ps5': 2, 'barang': 1, 'jangan': 1, ...})\n",
        "```"
      ],
      "metadata": {
        "id": "0GvVlzSW7wVI"
      }
    },
    {
      "cell_type": "code",
      "source": [
        "# Write your code here\n",
        "from collections import Counter\n",
        "\n",
        "positive_words = []\n",
        "for review in positive_review:\n",
        "    positive_words.extend(review)\n",
        "\n",
        "negative_words = []\n",
        "for review in negative_review:\n",
        "    negative_words.extend(review)\n",
        "\n",
        "print(Counter(positive_words))\n",
        "print(Counter(negative_words))"
      ],
      "metadata": {
        "id": "IY0JJxeO7tJS",
        "colab": {
          "base_uri": "https://localhost:8080/"
        },
        "outputId": "a10351bf-7c46-45d2-f708-0424a0696de4"
      },
      "execution_count": 4,
      "outputs": [
        {
          "output_type": "stream",
          "name": "stdout",
          "text": [
            "Counter({'barang': 3, 'dan': 3, 'aman': 3, 'seller': 2, 'berfungsi': 2, 'dengan': 2, 'packing': 2, 'top': 1, 'sesuai': 1, 'deskripsi': 1, 'baik,': 1, 'jangan': 1, 'ragu': 1, 'berbelanja': 1, 'di': 1, 'sini.': 1, 'paket': 1, 'pengiriman': 1, 'cepat': 1, 'nya': 1, 'juga': 1, 'sangat': 1, 'original': 1, 'sony': 1, 'japan': 1, 'fast': 1, 'response': 1, 'ramah': 1, 'sesuai,': 1, 'rapi': 1, 'baik.': 1})\n",
            "Counter({'tidak': 3, 'kabelnya': 1, 'original,': 1, 'segel': 1, 'terbuka': 1, 'barang': 1, 'yang': 1, 'sampai': 1, 'bukan': 1, 'ps5.': 1, 'tapi': 1, 'permen.': 1, 'uang': 1, 'saya': 1, 'pun': 1, 'dikembalikan.': 1, 'jangan': 1, 'mau': 1, 'beli': 1, 'ps5': 1, 'di': 1, 'sini': 1, 'toko': 1, 'jelas': 1})\n"
          ]
        }
      ]
    },
    {
      "cell_type": "markdown",
      "source": [
        "## Tugas 3"
      ],
      "metadata": {
        "id": "R0gTLg6r2vza"
      }
    },
    {
      "cell_type": "markdown",
      "source": [
        "Diberikan list berikut yang berisi data rating produk (dari 1 sampai 5):\n",
        "\n",
        "```python\n",
        "ratings = [5, 4, 3, 5, 2, 1, 4, 3, 5, 2, 1]\n",
        "```"
      ],
      "metadata": {
        "id": "ZuymkAcw3h3a"
      }
    },
    {
      "cell_type": "markdown",
      "source": [
        "#### Tugas 3.a"
      ],
      "metadata": {
        "id": "1fceealH3j-M"
      }
    },
    {
      "cell_type": "markdown",
      "source": [
        "Buat fungsi bernama `is_high_rating` yang menerima satu angka `x` dan mengembalikan `True` jika nilainya **lebih besar atau sama dengan 4**, dan `False` jika tidak.\n",
        "\n",
        "Cetak hasil uji fungsi ini untuk `x = 4` dan `x = 2`.\n",
        "\n",
        "---\n",
        "\n",
        "💬 Expected Output:\n",
        "\n",
        "```python\n",
        "True\n",
        "False\n",
        "```"
      ],
      "metadata": {
        "id": "xTvSbotG4qy2"
      }
    },
    {
      "cell_type": "code",
      "source": [
        "# Write your code here\n",
        "def is_high_rating(x):\n",
        "    return x >= 4\n",
        "\n",
        "print(is_high_rating(4))\n",
        "print(is_high_rating(2))"
      ],
      "metadata": {
        "id": "LvuOEv8U2uwa",
        "colab": {
          "base_uri": "https://localhost:8080/"
        },
        "outputId": "6debf99b-7325-42c8-8447-5f290a251485"
      },
      "execution_count": 6,
      "outputs": [
        {
          "output_type": "stream",
          "name": "stdout",
          "text": [
            "True\n",
            "False\n"
          ]
        }
      ]
    },
    {
      "cell_type": "markdown",
      "source": [
        "#### Tugas 3.b"
      ],
      "metadata": {
        "id": "YvTKwqkH5NhV"
      }
    },
    {
      "cell_type": "markdown",
      "source": [
        "Gunakan `filter()` dengan fungsi `is_high_rating` untuk menyaring hanya rating yang bernilai **4 atau lebih**.  \n",
        "Simpan hasilnya dalam list `high_ratings`, lalu cetak hasilnya.\n",
        "\n",
        "---\n",
        "\n",
        "💬 Expected Output:\n",
        "\n",
        "```python\n",
        "[5, 4, 5, 4, 5]\n",
        "```"
      ],
      "metadata": {
        "id": "AHip_bWP5T7S"
      }
    },
    {
      "cell_type": "code",
      "source": [
        "# Write your code here\n",
        "ratings = [5, 4, 3, 5, 2, 1, 4, 3, 5, 2, 1]\n",
        "\n",
        "high_ratings = []\n",
        "for r in ratings:\n",
        "    if is_high_rating(r):\n",
        "        high_ratings.append(r)\n",
        "\n",
        "print(high_ratings)"
      ],
      "metadata": {
        "id": "E5avyefk5TAY",
        "colab": {
          "base_uri": "https://localhost:8080/"
        },
        "outputId": "a191809c-23fb-45e1-c006-afa4aa8e2c49"
      },
      "execution_count": 7,
      "outputs": [
        {
          "output_type": "stream",
          "name": "stdout",
          "text": [
            "[5, 4, 5, 4, 5]\n"
          ]
        }
      ]
    },
    {
      "cell_type": "markdown",
      "source": [
        "#### Tugas 3.c"
      ],
      "metadata": {
        "id": "0dGF9o3-5c9u"
      }
    },
    {
      "cell_type": "markdown",
      "source": [
        "Gunakan `filter()` dengan `lambda` function untuk menyaring hanya rating yang **bernilai ganjil**.  \n",
        "Simpan ke list `odd_ratings` dan cetak hasilnya.\n",
        "\n",
        "---\n",
        "\n",
        "💬 Expected Output:\n",
        "\n",
        "```python\n",
        "[5, 3, 5, 1, 3, 5, 1]\n",
        "```"
      ],
      "metadata": {
        "id": "i_k33DAu5iRY"
      }
    },
    {
      "cell_type": "code",
      "source": [
        "# Write your code here\n",
        "odd_ratings = []\n",
        "for r in ratings:\n",
        "    if r % 2 == 1:\n",
        "        odd_ratings.append(r)\n",
        "\n",
        "print(odd_ratings)"
      ],
      "metadata": {
        "id": "2i5F_gLu5j5C",
        "colab": {
          "base_uri": "https://localhost:8080/"
        },
        "outputId": "93f9c7f3-f9c0-4cc6-9516-2663904cf4e2"
      },
      "execution_count": 8,
      "outputs": [
        {
          "output_type": "stream",
          "name": "stdout",
          "text": [
            "[5, 3, 5, 1, 3, 5, 1]\n"
          ]
        }
      ]
    },
    {
      "cell_type": "markdown",
      "source": [
        "## Tugas 4"
      ],
      "metadata": {
        "id": "qwhxEcRv8zJD"
      }
    },
    {
      "cell_type": "markdown",
      "source": [
        "#### Tugas 4.a"
      ],
      "metadata": {
        "id": "rO7uO0fAAlXB"
      }
    },
    {
      "cell_type": "markdown",
      "source": [
        "Diberikan list nama produk berikut:\n",
        "\n",
        "```python\n",
        "products = [\"laptop\", \"smartphone\", \"tablet\", \"monitor\"]\n",
        "```\n",
        "\n",
        "Gunakan `enumerate()` untuk membuat list of tuples `product_list` di mana tiap elemen-nya berupa `(id, product_name)`, dengan `id` dimulai dari 101.  \n",
        "Cetak hasilnya.\n",
        "\n",
        "---\n",
        "\n",
        "💬 Expected Output:\n",
        "\n",
        "```python\n",
        "[(101, 'laptop'), (102, 'smartphone'), (103, 'tablet'), (104, 'monitor')]\n",
        "```"
      ],
      "metadata": {
        "id": "zDa0UuukAfw5"
      }
    },
    {
      "cell_type": "code",
      "source": [
        "# Write your code here\n",
        "products = [\"laptop\", \"smartphone\", \"tablet\", \"monitor\"]\n",
        "\n",
        "product_list = []\n",
        "for i, name in enumerate(products):\n",
        "    product_list.append((101 + i, name))\n",
        "\n",
        "print(product_list)"
      ],
      "metadata": {
        "id": "0ZjCps7X83X4",
        "colab": {
          "base_uri": "https://localhost:8080/"
        },
        "outputId": "c8598161-9db1-4d4f-96a3-6e22b2ca5088"
      },
      "execution_count": 9,
      "outputs": [
        {
          "output_type": "stream",
          "name": "stdout",
          "text": [
            "[(101, 'laptop'), (102, 'smartphone'), (103, 'tablet'), (104, 'monitor')]\n"
          ]
        }
      ]
    },
    {
      "cell_type": "markdown",
      "source": [
        "#### Tugas 4.b"
      ],
      "metadata": {
        "id": "p5mJn-wYAzqD"
      }
    },
    {
      "cell_type": "markdown",
      "source": [
        "Diberikan dua list berikut:\n",
        "\n",
        "```python\n",
        "names = [\"Anna\", \"Ben\", \"Cara\", \"Dion\"]\n",
        "scores = [88, 45, 73, 91]\n",
        "```\n",
        "\n",
        "Gunakan `enumerate()` untuk mencetak semua peserta yang mendapat nilai di bawah 70.  \n",
        "**Ikuti langkah berikut secara eksplisit:**\n",
        "\n",
        "1. Gunakan `zip()` untuk menggabungkan `names` dan `scores`\n",
        "2. Gunakan `enumerate()` untuk memberikan indeks pada setiap pasangan `(name, score)`\n",
        "3. Buat `for` loop dari hasil `enumerate(zip(...))`\n",
        "4. Di dalam loop, jika `score < 70`, cetak dalam format:\n",
        "\n",
        "```\n",
        "<name> (Index: <index>) mendapat nilai di bawah KKM: <score>\n",
        "```\n",
        "\n",
        "---\n",
        "\n",
        "💬 Expected Output:\n",
        "\n",
        "```\n",
        "Ben (Index: 1) mendapat nilai di bawah KKM: 45\n",
        "```"
      ],
      "metadata": {
        "id": "j9i2ngUMA6_5"
      }
    },
    {
      "cell_type": "code",
      "source": [
        "# Write your code here\n",
        "names = [\"Anna\", \"Ben\", \"Cara\", \"Dion\"]\n",
        "scores = [88, 45, 73, 91]\n",
        "\n",
        "for index, (name, score) in enumerate(zip(names, scores)):\n",
        "    if score < 70:\n",
        "        print(f\"{name} (Index: {index}) mendapat nilai di bawah KKM: {score}\")"
      ],
      "metadata": {
        "id": "l7rFo8_qA1To",
        "colab": {
          "base_uri": "https://localhost:8080/"
        },
        "outputId": "3e516e71-ae39-4e06-8d57-70f4fcb2e970"
      },
      "execution_count": 10,
      "outputs": [
        {
          "output_type": "stream",
          "name": "stdout",
          "text": [
            "Ben (Index: 1) mendapat nilai di bawah KKM: 45\n"
          ]
        }
      ]
    },
    {
      "cell_type": "markdown",
      "source": [
        "## Tugas 5"
      ],
      "metadata": {
        "id": "JMloEgxUQunV"
      }
    },
    {
      "cell_type": "markdown",
      "source": [
        "Kamu memiliki dua list berisi data rating produk dari dua batch yang berbeda. Namun, hanya rating dari **1 hingga 5** yang valid:\n",
        "\n",
        "```python\n",
        "batch_1 = [5, 3, 6, 2, -1, 4]\n",
        "batch_2 = [4, 0, 2, 5, 3]\n",
        "```"
      ],
      "metadata": {
        "id": "LYvX-OCMQ1Ld"
      }
    },
    {
      "cell_type": "markdown",
      "source": [
        "#### Tugas 5.a"
      ],
      "metadata": {
        "id": "wJ-mcABiQ2GG"
      }
    },
    {
      "cell_type": "markdown",
      "source": [
        "Buat list kosong `all_valid_ratings`.  \n",
        "Saring hanya nilai valid dari `batch_1` (nilai antara 1 dan 5, inklusif), lalu tambahkan hasilnya ke `all_valid_ratings` menggunakan `extend()`.  \n",
        "Cetak isi `all_valid_ratings` setelah extend dari `batch_1`.\n",
        "\n",
        "---\n",
        "\n",
        "💬 Expected Output Tugas 5.a:\n",
        "\n",
        "```python\n",
        "[5, 3, 2, 4]\n",
        "```"
      ],
      "metadata": {
        "id": "12SkUA23Q6XU"
      }
    },
    {
      "cell_type": "code",
      "source": [
        "# Write your code here\n",
        "batch_1 = [5, 3, 6, 2, -1, 4]\n",
        "all_valid_ratings = []\n",
        "\n",
        "for r in batch_1:\n",
        "    if 1 <= r <= 5:\n",
        "        all_valid_ratings.append(r)\n",
        "\n",
        "print(all_valid_ratings)"
      ],
      "metadata": {
        "id": "TUnVIOWrQxvM",
        "colab": {
          "base_uri": "https://localhost:8080/"
        },
        "outputId": "7c10a046-1273-44f0-f05d-89a8d7e567d0"
      },
      "execution_count": 11,
      "outputs": [
        {
          "output_type": "stream",
          "name": "stdout",
          "text": [
            "[5, 3, 2, 4]\n"
          ]
        }
      ]
    },
    {
      "cell_type": "markdown",
      "source": [
        "#### Tugas 5.b"
      ],
      "metadata": {
        "id": "Vi9tAPQ6RGVh"
      }
    },
    {
      "cell_type": "markdown",
      "source": [
        "Lakukan hal yang sama untuk `batch_2`: saring rating valid dan tambahkan ke `all_valid_ratings` menggunakan `extend()`.  \n",
        "Cetak isi `all_valid_ratings` setelah extend dari `batch_2`.\n",
        "\n",
        "---\n",
        "\n",
        "💬 Expected Output Tugas 5.b:\n",
        "\n",
        "```python\n",
        "[5, 3, 2, 4, 4, 2, 5, 3]\n",
        "```"
      ],
      "metadata": {
        "id": "RElLLqSORKdD"
      }
    },
    {
      "cell_type": "code",
      "source": [
        "# Write your code here\n",
        "batch_2 = [4, 0, 2, 5, 3]\n",
        "\n",
        "for r in batch_2:\n",
        "    if 1 <= r <= 5:\n",
        "        all_valid_ratings.append(r)\n",
        "\n",
        "print(all_valid_ratings)"
      ],
      "metadata": {
        "id": "Oz0QqbtERIiN",
        "colab": {
          "base_uri": "https://localhost:8080/"
        },
        "outputId": "1831ee66-9009-4158-f57e-362fca583ca8"
      },
      "execution_count": 12,
      "outputs": [
        {
          "output_type": "stream",
          "name": "stdout",
          "text": [
            "[5, 3, 2, 4, 4, 2, 5, 3]\n"
          ]
        }
      ]
    },
    {
      "cell_type": "markdown",
      "source": [
        "## Tugas 6"
      ],
      "metadata": {
        "id": "2KsvbGm9Rbqs"
      }
    },
    {
      "cell_type": "markdown",
      "source": [
        "Kamu diberikan list transaksi berikut. Setiap elemen adalah tuple berisi `(kategori, jumlah)`.\n",
        "\n",
        "```python\n",
        "transactions = [\n",
        "    (\"food\", 120000),\n",
        "    (\"transport\", 30000),\n",
        "    (\"food\", 50000),\n",
        "    (\"entertainment\", 75000),\n",
        "    (\"food\", 40000),\n",
        "    (\"transport\", 45000)\n",
        "]\n",
        "```"
      ],
      "metadata": {
        "id": "yAUDc4NlR0ZB"
      }
    },
    {
      "cell_type": "markdown",
      "source": [
        "#### Tugas 6.a"
      ],
      "metadata": {
        "id": "k9Kq1-WIR2At"
      }
    },
    {
      "cell_type": "markdown",
      "source": [
        "Gunakan loop dan `setdefault()` untuk mengelompokkan transaksi berdasarkan kategori.  \n",
        "Buat dictionary `grouped_data` di mana setiap key adalah kategori dan setiap value adalah list dari jumlah transaksi di kategori tersebut.\n",
        "\n",
        "Cetak isi `grouped_data`.\n",
        "\n",
        "---\n",
        "\n",
        "💬 Expected Output Tugas 6.a:\n",
        "\n",
        "```python\n",
        "{\n",
        "  'food': [120000, 50000, 40000],\n",
        "  'transport': [30000, 45000],\n",
        "  'entertainment': [75000]\n",
        "}\n",
        "```"
      ],
      "metadata": {
        "id": "Yf3IEnZ5R7xX"
      }
    },
    {
      "cell_type": "code",
      "source": [
        "# Write your code here\n",
        "transactions = [\n",
        "    (\"food\", 120000),\n",
        "    (\"transport\", 30000),\n",
        "    (\"food\", 50000),\n",
        "    (\"entertainment\", 75000),\n",
        "    (\"food\", 40000),\n",
        "    (\"transport\", 45000)\n",
        "]\n",
        "\n",
        "grouped_data = {}\n",
        "\n",
        "for category, amount in transactions:\n",
        "    if category not in grouped_data:\n",
        "        grouped_data[category] = []\n",
        "    grouped_data[category].append(amount)\n",
        "\n",
        "print(grouped_data)"
      ],
      "metadata": {
        "id": "K0NjWGdYRTX8",
        "colab": {
          "base_uri": "https://localhost:8080/"
        },
        "outputId": "1af6c1e9-f35b-463d-f601-65efb11e795a"
      },
      "execution_count": 13,
      "outputs": [
        {
          "output_type": "stream",
          "name": "stdout",
          "text": [
            "{'food': [120000, 50000, 40000], 'transport': [30000, 45000], 'entertainment': [75000]}\n"
          ]
        }
      ]
    },
    {
      "cell_type": "markdown",
      "source": [
        "#### Tugas 6.b"
      ],
      "metadata": {
        "id": "QjGb14SgSAvt"
      }
    },
    {
      "cell_type": "markdown",
      "source": [
        "Gunakan method `get()` untuk mengambil dan menjumlahkan total pengeluaran kategori `\"food\"` dan `\"misc\"`.\n",
        "\n",
        "- Ambil total dari `grouped_data[\"food\"]` dengan `.get()`, lalu jumlahkan\n",
        "- Ambil total dari `grouped_data[\"misc\"]` (yang tidak ada), gunakan default empty list (`[]`) agar tidak error\n",
        "\n",
        "Cetak keduanya: total pengeluaran `\"food\"` dan `\"misc\"`.\n",
        "\n",
        "---\n",
        "\n",
        "💬 Expected Output Tugas 6.b:\n",
        "\n",
        "```python\n",
        "Total food: 210000  \n",
        "Total misc: 0\n",
        "```"
      ],
      "metadata": {
        "id": "ddxHX4qhSGQr"
      }
    },
    {
      "cell_type": "code",
      "source": [
        "# Write your code here\n",
        "total_food = sum(grouped_data.get(\"food\", []))\n",
        "total_misc = sum(grouped_data.get(\"misc\", []))\n",
        "\n",
        "print(f\"Total food: {total_food}\")\n",
        "print(f\"Total misc: {total_misc}\")"
      ],
      "metadata": {
        "id": "UYeibNz3R6_x",
        "colab": {
          "base_uri": "https://localhost:8080/"
        },
        "outputId": "50f43dd0-cd25-41f7-e1fa-469107637f1a"
      },
      "execution_count": 14,
      "outputs": [
        {
          "output_type": "stream",
          "name": "stdout",
          "text": [
            "Total food: 210000\n",
            "Total misc: 0\n"
          ]
        }
      ]
    },
    {
      "cell_type": "markdown",
      "source": [
        "## Tugas 7"
      ],
      "metadata": {
        "id": "dWs3LKrVTLqy"
      }
    },
    {
      "cell_type": "markdown",
      "source": [
        "Kamu memiliki daftar user ID yang sedang diperiksa karena aktivitas mencurigakan:\n",
        "\n",
        "```python\n",
        "flagged_ids = [\"u102\", \"u143\", \"u187\", \"u199\"]\n",
        "```"
      ],
      "metadata": {
        "id": "ysCMFrIoUIuw"
      }
    },
    {
      "cell_type": "markdown",
      "source": [
        "#### Tugas 7.a"
      ],
      "metadata": {
        "id": "8m5Q64zhUKe9"
      }
    },
    {
      "cell_type": "markdown",
      "source": [
        "Gunakan `dict.fromkeys()` untuk membuat dictionary `status_map` di mana setiap `user_id` diawali dengan status `\"pending\"`.  \n",
        "Cetak `status_map`.\n",
        "\n",
        "---\n",
        "\n",
        "💬 Expected Output Tugas 7.a:\n",
        "\n",
        "```python\n",
        "{'u102': 'pending', 'u143': 'pending', 'u187': 'pending', 'u199': 'pending'}\n",
        "```"
      ],
      "metadata": {
        "id": "R_Znr989UMJu"
      }
    },
    {
      "cell_type": "code",
      "source": [
        "# Write your code here\n",
        "flagged_ids = [\"u102\", \"u143\", \"u187\", \"u199\"]\n",
        "\n",
        "status_map = dict.fromkeys(flagged_ids, \"pending\")\n",
        "print(status_map)"
      ],
      "metadata": {
        "id": "GDcFZPE7Ujx7",
        "colab": {
          "base_uri": "https://localhost:8080/"
        },
        "outputId": "34ea5c61-e5f8-4cfc-982e-71607834b528"
      },
      "execution_count": 15,
      "outputs": [
        {
          "output_type": "stream",
          "name": "stdout",
          "text": [
            "{'u102': 'pending', 'u143': 'pending', 'u187': 'pending', 'u199': 'pending'}\n"
          ]
        }
      ]
    },
    {
      "cell_type": "markdown",
      "source": [
        "#### Tugas 7.b"
      ],
      "metadata": {
        "id": "gW4rTB_fURt-"
      }
    },
    {
      "cell_type": "markdown",
      "source": [
        "Sekarang, anggap `\"u143\"` dan `\"u187\"` telah diverifikasi.  \n",
        "Ubah status mereka menjadi `\"cleared\"` dalam dictionary `status_map`.  \n",
        "Cetak kembali `status_map`.\n",
        "\n",
        "---\n",
        "\n",
        "💬 Expected Output Tugas 7.b:\n",
        "\n",
        "```python\n",
        "{'u102': 'pending', 'u143': 'cleared', 'u187': 'cleared', 'u199': 'pending'}\n",
        "```"
      ],
      "metadata": {
        "id": "wrtFwMvZUpyJ"
      }
    },
    {
      "cell_type": "code",
      "source": [
        "# Write your code here\n",
        "status_map[\"u143\"] = \"cleared\"\n",
        "status_map[\"u187\"] = \"cleared\"\n",
        "\n",
        "print(status_map)"
      ],
      "metadata": {
        "id": "jtW-zIPaSSvj",
        "colab": {
          "base_uri": "https://localhost:8080/"
        },
        "outputId": "4dccf780-9bcd-4c06-96b6-6736da5ea5a8"
      },
      "execution_count": 16,
      "outputs": [
        {
          "output_type": "stream",
          "name": "stdout",
          "text": [
            "{'u102': 'pending', 'u143': 'cleared', 'u187': 'cleared', 'u199': 'pending'}\n"
          ]
        }
      ]
    },
    {
      "cell_type": "markdown",
      "source": [
        "## Tugas 8"
      ],
      "metadata": {
        "id": "K77oo6igVoOe"
      }
    },
    {
      "cell_type": "markdown",
      "source": [
        "#### Tugas 8.a"
      ],
      "metadata": {
        "id": "HZH-fw9sVs-1"
      }
    },
    {
      "cell_type": "markdown",
      "source": [
        "Kamu diberikan total durasi dalam menit:\n",
        "\n",
        "```python\n",
        "total_minutes = 245\n",
        "```\n",
        "\n",
        "Gunakan fungsi `divmod()` untuk mengonversi `total_minutes` menjadi `(jam, menit)`.  \n",
        "Cetak hasilnya dalam format seperti:\n",
        "```\n",
        "245 menit = 4 jam 5 menit\n",
        "```\n",
        "\n",
        "---\n",
        "\n",
        "💬 Expected Output Tugas 8.a:\n",
        "\n",
        "```\n",
        "245 menit = 4 jam 5 menit\n",
        "```"
      ],
      "metadata": {
        "id": "S1_0gpN0Vzka"
      }
    },
    {
      "cell_type": "code",
      "source": [
        "# Write your code here\n",
        "total_minutes = 245\n",
        "jam, menit = divmod(total_minutes, 60)\n",
        "\n",
        "print(f\"{total_minutes} menit = {jam} jam {menit} menit\")"
      ],
      "metadata": {
        "id": "kV8RXI_fU0cL",
        "colab": {
          "base_uri": "https://localhost:8080/"
        },
        "outputId": "f0604634-28ef-4ab0-ac14-da455741fafd"
      },
      "execution_count": 17,
      "outputs": [
        {
          "output_type": "stream",
          "name": "stdout",
          "text": [
            "245 menit = 4 jam 5 menit\n"
          ]
        }
      ]
    },
    {
      "cell_type": "markdown",
      "source": [
        "#### Tugas 8.b"
      ],
      "metadata": {
        "id": "LNGwQdkBV6Wu"
      }
    },
    {
      "cell_type": "markdown",
      "source": [
        "Sebuah gudang ingin mengemas 1280 barang ke dalam kotak, masing-masing dapat menampung **300** barang.  \n",
        "Gunakan `divmod()` untuk menghitung:\n",
        "- Berapa kotak penuh yang dapat digunakan\n",
        "- Berapa sisa barang yang belum terkemas\n",
        "\n",
        "Cetak hasilnya seperti:\n",
        "```\n",
        "1280 barang → 4 kotak penuh, 80 barang tersisa\n",
        "```\n",
        "\n",
        "---\n",
        "\n",
        "💬 Expected Output Tugas 8.b:\n",
        "\n",
        "```\n",
        "1280 barang → 4 kotak penuh, 80 barang tersisa\n",
        "```"
      ],
      "metadata": {
        "id": "lFBgFDBkV-mf"
      }
    },
    {
      "cell_type": "code",
      "source": [
        "# Write your code here\n",
        "total_items = 1280\n",
        "box_capacity = 300\n",
        "\n",
        "kotak, sisa = divmod(total_items, box_capacity)\n",
        "print(f\"{total_items} barang → {kotak} kotak penuh, {sisa} barang tersisa\")"
      ],
      "metadata": {
        "id": "Bjr5Dg0oV7tv",
        "colab": {
          "base_uri": "https://localhost:8080/"
        },
        "outputId": "3c015dc3-6e1b-48e4-c66e-c5220375ab5b"
      },
      "execution_count": 18,
      "outputs": [
        {
          "output_type": "stream",
          "name": "stdout",
          "text": [
            "1280 barang → 4 kotak penuh, 80 barang tersisa\n"
          ]
        }
      ]
    },
    {
      "cell_type": "markdown",
      "source": [
        "## Tugas 9"
      ],
      "metadata": {
        "id": "nW4NKsfOWp-R"
      }
    },
    {
      "cell_type": "markdown",
      "source": [
        "#### Tugas 9.a"
      ],
      "metadata": {
        "id": "t2tPA-BDWwou"
      }
    },
    {
      "cell_type": "markdown",
      "source": [
        "Kamu memiliki input string `password_input` yang diisi pengguna:\n",
        "\n",
        "```python\n",
        "password_input = \"s4fep@ss\"\n",
        "```\n",
        "\n",
        "Gunakan `len()` untuk memeriksa berapa panjang karakter dari password tersebut.  \n",
        "Cetak kalimat:  \n",
        "```\n",
        "Password memiliki X karakter.\n",
        "```\n",
        "\n",
        "---\n",
        "\n",
        "💬 Expected Output Tugas 9.a:\n",
        "\n",
        "```\n",
        "Password memiliki 8 karakter.\n",
        "```"
      ],
      "metadata": {
        "id": "l4_zSNmoW0Wz"
      }
    },
    {
      "cell_type": "code",
      "source": [
        "# Write your code here\n",
        "password_input = \"s4fep@ss\"\n",
        "panjang = len(password_input)\n",
        "\n",
        "print(f\"Password memiliki {panjang} karakter.\")"
      ],
      "metadata": {
        "id": "CVW5iaLnWAKd",
        "colab": {
          "base_uri": "https://localhost:8080/"
        },
        "outputId": "a906f50e-ec53-435d-91fa-29a8a8b3b06c"
      },
      "execution_count": 19,
      "outputs": [
        {
          "output_type": "stream",
          "name": "stdout",
          "text": [
            "Password memiliki 8 karakter.\n"
          ]
        }
      ]
    },
    {
      "cell_type": "markdown",
      "source": [
        "#### Tugas 9.b"
      ],
      "metadata": {
        "id": "A6-AzaaHXA0S"
      }
    },
    {
      "cell_type": "markdown",
      "source": [
        "Minimum panjang password yang diizinkan adalah 12 karakter.  \n",
        "Gunakan `len()` dan `range()` untuk mencetak placeholder `*` sebanyak selisih kekurangan karakter jika password terlalu pendek.\n",
        "\n",
        "Contoh format:\n",
        "```\n",
        "Password kurang 4 karakter.\n",
        "Saran: Tambahkan ****\n",
        "```\n",
        "\n",
        "Jika password sudah cukup panjang, cetak:\n",
        "```\n",
        "Password sudah memenuhi panjang minimum.\n",
        "```\n",
        "\n",
        "---\n",
        "\n",
        "💬 Expected Output Tugas 9.b:\n",
        "\n",
        "```\n",
        "Password kurang 4 karakter.  \n",
        "Saran: Tambahkan ****\n",
        "```"
      ],
      "metadata": {
        "id": "Hhl6o3D6XAsj"
      }
    },
    {
      "cell_type": "code",
      "source": [
        "# Write your code here\n",
        "min_length = 12\n",
        "\n",
        "if panjang < min_length:\n",
        "    kurang = min_length - panjang\n",
        "    print(f\"Password kurang {kurang} karakter.\")\n",
        "    print(\"Saran: Tambahkan \" + \"*\" * kurang)\n",
        "else:\n",
        "    print(\"Password sudah memenuhi panjang minimum.\")"
      ],
      "metadata": {
        "id": "AFN1zaXqXGx2",
        "colab": {
          "base_uri": "https://localhost:8080/"
        },
        "outputId": "76c93be7-2692-41d2-f042-2f61ed003ff6"
      },
      "execution_count": 20,
      "outputs": [
        {
          "output_type": "stream",
          "name": "stdout",
          "text": [
            "Password kurang 4 karakter.\n",
            "Saran: Tambahkan ****\n"
          ]
        }
      ]
    },
    {
      "cell_type": "markdown",
      "source": [
        "## Tugas 10"
      ],
      "metadata": {
        "id": "ZEXxthvMYo7U"
      }
    },
    {
      "cell_type": "markdown",
      "source": [
        "Diberikan list nilai siswa:\n",
        "\n",
        "```python\n",
        "grades = [78, 85, 92, 67, 88, 90, 74]\n",
        "```"
      ],
      "metadata": {
        "id": "HEzSc4o_Y4vg"
      }
    },
    {
      "cell_type": "markdown",
      "source": [
        "#### Tugas 10.a"
      ],
      "metadata": {
        "id": "DK6lXUbyY7OB"
      }
    },
    {
      "cell_type": "markdown",
      "source": [
        "Gunakan fungsi `min()` dan `max()` untuk mencari:\n",
        "- Nilai tertinggi\n",
        "- Nilai terendah\n",
        "\n",
        "Cetak hasilnya.\n",
        "\n",
        "---\n",
        "\n",
        "💬 Expected Output Tugas 11.a:\n",
        "\n",
        "```\n",
        "Nilai tertinggi: 92  \n",
        "Nilai terendah: 67\n",
        "```"
      ],
      "metadata": {
        "id": "Lcrsj6agY9aU"
      }
    },
    {
      "cell_type": "code",
      "source": [
        "# Write your code here\n",
        "grades = [78, 85, 92, 67, 88, 90, 74]\n",
        "\n",
        "print(f\"Nilai tertinggi: {max(grades)}\")\n",
        "print(f\"Nilai terendah: {min(grades)}\")"
      ],
      "metadata": {
        "id": "UW8_l_FbZDoA",
        "colab": {
          "base_uri": "https://localhost:8080/"
        },
        "outputId": "20f7b628-0bc7-4e26-c734-49b50e6617bc"
      },
      "execution_count": 21,
      "outputs": [
        {
          "output_type": "stream",
          "name": "stdout",
          "text": [
            "Nilai tertinggi: 92\n",
            "Nilai terendah: 67\n"
          ]
        }
      ]
    },
    {
      "cell_type": "markdown",
      "source": [
        "#### Tugas 10.b"
      ],
      "metadata": {
        "id": "1EtIsvW7ZFTV"
      }
    },
    {
      "cell_type": "markdown",
      "source": [
        "Gunakan `sum()` dan `len()` untuk menghitung rata-rata nilai. Cetak hasilnya dalam format:\n",
        "```\n",
        "Rata-rata nilai: XX.XX\n",
        "```\n",
        "---\n",
        "\n",
        "💬 Expected Output Tugas 10.b:\n",
        "\n",
        "```\n",
        "Rata-rata nilai: 82.00\n",
        "```"
      ],
      "metadata": {
        "id": "zwhwGGdpZJN2"
      }
    },
    {
      "cell_type": "code",
      "source": [
        "# Write your code here\n",
        "rata_rata = sum(grades) / len(grades)\n",
        "print(f\"Rata-rata nilai: {rata_rata:.2f}\")"
      ],
      "metadata": {
        "id": "KRbEWH6-ZLu2",
        "colab": {
          "base_uri": "https://localhost:8080/"
        },
        "outputId": "f70ec871-dc1a-4c39-d6c7-41a9313f75df"
      },
      "execution_count": 22,
      "outputs": [
        {
          "output_type": "stream",
          "name": "stdout",
          "text": [
            "Rata-rata nilai: 82.00\n"
          ]
        }
      ]
    },
    {
      "cell_type": "markdown",
      "source": [
        "## Tugas 11 (gw gk tahu yg ini sebaiknya dimasukkin atau nggak, soalnya keknya gk kepake(?))"
      ],
      "metadata": {
        "id": "2FCpFa96XZ5P"
      }
    },
    {
      "cell_type": "markdown",
      "source": [
        "Kamu memiliki list `error_logs` yang berisi pesan-pesan error dari sistem:\n",
        "\n",
        "```python\n",
        "error_logs = [\n",
        "    \"Disk warning: C almost full\",\n",
        "    \"Auth failure on SSH port\",\n",
        "    \"Database connection lost\",\n",
        "    \"Low memory warning\",\n",
        "    \"Power supply unstable\"\n",
        "]\n",
        "```"
      ],
      "metadata": {
        "id": "gFa1i27kYM6_"
      }
    },
    {
      "cell_type": "markdown",
      "source": [
        "#### Tugas 11.a"
      ],
      "metadata": {
        "id": "JBrkCna3X6R2"
      }
    },
    {
      "cell_type": "markdown",
      "source": [
        "Gunakan fungsi `iter()` untuk membuat iterator dari list tersebut. Simpan dalam variabel `log_iterator`.  \n",
        "Cetak objek iterator tersebut.\n",
        "\n",
        "---\n",
        "\n",
        "💬 Expected Output Tugas 10.a:\n",
        "\n",
        "```\n",
        "<list_iterator object at ...>  ← bentuk output bisa berbeda tergantung interpreter\n",
        "```"
      ],
      "metadata": {
        "id": "sRAvxyVkYCu9"
      }
    },
    {
      "cell_type": "code",
      "source": [
        "# Write your code here\n",
        "error_logs = [\n",
        "    \"Disk warning: C almost full\",\n",
        "    \"Auth failure on SSH port\",\n",
        "    \"Database connection lost\",\n",
        "    \"Low memory warning\",\n",
        "    \"Power supply unstable\"\n",
        "]\n",
        "\n",
        "log_iterator = iter(error_logs)\n",
        "print(log_iterator)"
      ],
      "metadata": {
        "id": "TCYfq_ukXUIv",
        "colab": {
          "base_uri": "https://localhost:8080/"
        },
        "outputId": "4a86047c-b6d1-4cda-a9da-0e6ffda77663"
      },
      "execution_count": 23,
      "outputs": [
        {
          "output_type": "stream",
          "name": "stdout",
          "text": [
            "<list_iterator object at 0x7c0a34c33730>\n"
          ]
        }
      ]
    },
    {
      "cell_type": "markdown",
      "source": [
        "#### Tugas 11.b"
      ],
      "metadata": {
        "id": "RgUcYwSIYQaQ"
      }
    },
    {
      "cell_type": "markdown",
      "source": [
        "Gunakan `next()` sebanyak 3 kali berturut-turut pada `log_iterator`, dan cetak hasilnya satu per satu.\n",
        "\n",
        "---\n",
        "\n",
        "💬 Expected Output Tugas 10.b:\n",
        "\n",
        "```\n",
        "Disk warning: C almost full  \n",
        "Auth failure on SSH port  \n",
        "Database connection lost\n",
        "```"
      ],
      "metadata": {
        "id": "XZW8RTizYX1U"
      }
    },
    {
      "cell_type": "code",
      "source": [
        "# Write your code here"
      ],
      "metadata": {
        "id": "yTdDIW40YRlf"
      },
      "execution_count": null,
      "outputs": []
    },
    {
      "cell_type": "code",
      "source": [
        "print(next(log_iterator))\n",
        "print(next(log_iterator))\n",
        "print(next(log_iterator))"
      ],
      "metadata": {
        "id": "V7R_DukwYebv",
        "colab": {
          "base_uri": "https://localhost:8080/"
        },
        "outputId": "753ceaa1-3e9c-404f-ca68-ca0ab5207e3a"
      },
      "execution_count": 24,
      "outputs": [
        {
          "output_type": "stream",
          "name": "stdout",
          "text": [
            "Disk warning: C almost full\n",
            "Auth failure on SSH port\n",
            "Database connection lost\n"
          ]
        }
      ]
    }
  ]
}
